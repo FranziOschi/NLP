{
 "cells": [
  {
   "cell_type": "markdown",
   "metadata": {},
   "source": [
    "Dataset contains Reviews of movies and a binary classification of the movies as output. The words of the reviews are indices of a dictionary."
   ]
  },
  {
   "cell_type": "code",
   "execution_count": 1,
   "metadata": {},
   "outputs": [
    {
     "name": "stderr",
     "output_type": "stream",
     "text": [
      "/Users/franzi/anaconda2/lib/python2.7/site-packages/h5py/__init__.py:36: FutureWarning: Conversion of the second argument of issubdtype from `float` to `np.floating` is deprecated. In future, it will be treated as `np.float64 == np.dtype(float).type`.\n",
      "  from ._conv import register_converters as _register_converters\n",
      "Using TensorFlow backend.\n"
     ]
    },
    {
     "name": "stdout",
     "output_type": "stream",
     "text": [
      "[nltk_data] Downloading package punkt to /Users/franzi/nltk_data...\n",
      "[nltk_data]   Package punkt is already up-to-date!\n",
      "[nltk_data] Downloading package wordnet to /Users/franzi/nltk_data...\n",
      "[nltk_data]   Package wordnet is already up-to-date!\n"
     ]
    }
   ],
   "source": [
    "import numpy as np\n",
    "from keras.datasets import imdb\n",
    "from keras.models import Sequential\n",
    "from keras.layers import Dense, Dropout, Activation, Embedding, Flatten, Conv1D, Conv2D, MaxPooling1D\n",
    "from keras.preprocessing.text import Tokenizer\n",
    "from keras.utils import to_categorical\n",
    "import matplotlib.pyplot as plt\n",
    "import os\n",
    "\n",
    "from nltk.tokenize import RegexpTokenizer\n",
    "from nltk.stem import WordNetLemmatizer\n",
    "\n",
    "import nltk\n",
    "nltk.download('punkt')\n",
    "nltk.download('wordnet')\n",
    "from nltk.corpus import stopwords"
   ]
  },
  {
   "cell_type": "code",
   "execution_count": 2,
   "metadata": {},
   "outputs": [],
   "source": [
    "from keras.datasets import imdb\n",
    "\n",
    "num_words = 1000\n",
    "(x_train, y_train), (x_test, y_test) = imdb.load_data(path=\"imdb.npz\",\n",
    "                                                      num_words=num_words,\n",
    "                                                      skip_top=0,\n",
    "                                                      maxlen=None,\n",
    "                                                      seed=113,\n",
    "                                                      start_char=1,\n",
    "                                                      oov_char=2,\n",
    "                                                      index_from=3)"
   ]
  },
  {
   "cell_type": "code",
   "execution_count": 3,
   "metadata": {},
   "outputs": [],
   "source": [
    "def n_hot_vector(sequence, num_words):\n",
    "    n_hot_v = np.zeros(num_words)\n",
    "    \n",
    "    indices = np.unique(sequence)\n",
    "    n_hot_v[indices] = 1\n",
    "    return n_hot_v  \n",
    "\n",
    "def n_hot_matrix(input_length, num_words, sequences):\n",
    "    n_hot_m = np.zeros((input_length, num_words))\n",
    "    \n",
    "    for i in range(input_length):\n",
    "        indices = np.unique(sequences[i])\n",
    "        n_hot_m[i, indices] = 1\n",
    "    \n",
    "    return n_hot_m"
   ]
  },
  {
   "cell_type": "code",
   "execution_count": 4,
   "metadata": {},
   "outputs": [],
   "source": [
    "# #one-hot encoding of sentences\n",
    "# x_train_enc = n_hot_matrix(x_train.shape[0], 1000, x_train)\n",
    "# x_test_enc = n_hot_matrix(x_test.shape[0], 1000, x_train)"
   ]
  },
  {
   "cell_type": "code",
   "execution_count": 5,
   "metadata": {},
   "outputs": [],
   "source": [
    "#one-hot encoding of sentences\n",
    "tokenizer = Tokenizer(num_words=num_words)\n",
    "x_train_enc = tokenizer.sequences_to_matrix(x_train, mode='binary')\n",
    "x_test_enc = tokenizer.sequences_to_matrix(x_test, mode='binary')"
   ]
  },
  {
   "cell_type": "code",
   "execution_count": 6,
   "metadata": {},
   "outputs": [],
   "source": [
    "num_classes = 2\n",
    "y_train_enc = to_categorical(y_train, num_classes)\n",
    "y_test_enc = to_categorical(y_test, num_classes)"
   ]
  },
  {
   "cell_type": "code",
   "execution_count": 7,
   "metadata": {},
   "outputs": [
    {
     "name": "stdout",
     "output_type": "stream",
     "text": [
      "_________________________________________________________________\n",
      "Layer (type)                 Output Shape              Param #   \n",
      "=================================================================\n",
      "dense_1 (Dense)              (None, 50)                50050     \n",
      "_________________________________________________________________\n",
      "dense_2 (Dense)              (None, 2)                 102       \n",
      "=================================================================\n",
      "Total params: 50,152\n",
      "Trainable params: 50,152\n",
      "Non-trainable params: 0\n",
      "_________________________________________________________________\n",
      "None\n"
     ]
    }
   ],
   "source": [
    "model = Sequential()\n",
    "model.add(Dense(50, activation='relu', input_shape=(x_train_enc.shape[1], ), kernel_regularizer='l2'))\n",
    "model.add(Dense(2, activation='sigmoid'))\n",
    "\n",
    "# compile the model\n",
    "model.compile(optimizer='adam', loss='binary_crossentropy', metrics=['acc'])\n",
    "# summarize the model\n",
    "print(model.summary())"
   ]
  },
  {
   "cell_type": "code",
   "execution_count": 8,
   "metadata": {},
   "outputs": [
    {
     "name": "stdout",
     "output_type": "stream",
     "text": [
      "Train on 25000 samples, validate on 25000 samples\n",
      "Epoch 1/10\n",
      "25000/25000 [==============================] - 2s 92us/step - loss: 0.6756 - acc: 0.8047 - val_loss: 0.4686 - val_acc: 0.8393\n",
      "Epoch 2/10\n",
      "25000/25000 [==============================] - 1s 50us/step - loss: 0.4426 - acc: 0.8477 - val_loss: 0.4347 - val_acc: 0.8459\n",
      "Epoch 3/10\n",
      "25000/25000 [==============================] - 1s 48us/step - loss: 0.4272 - acc: 0.8473 - val_loss: 0.4205 - val_acc: 0.8502\n",
      "Epoch 4/10\n",
      "25000/25000 [==============================] - 1s 49us/step - loss: 0.4133 - acc: 0.8489 - val_loss: 0.4107 - val_acc: 0.8524\n",
      "Epoch 5/10\n",
      "25000/25000 [==============================] - 1s 48us/step - loss: 0.4065 - acc: 0.8523 - val_loss: 0.4132 - val_acc: 0.8463\n",
      "Epoch 6/10\n",
      "25000/25000 [==============================] - 1s 48us/step - loss: 0.4059 - acc: 0.8497 - val_loss: 0.4003 - val_acc: 0.8512\n",
      "Epoch 7/10\n",
      "25000/25000 [==============================] - 1s 48us/step - loss: 0.3991 - acc: 0.8543 - val_loss: 0.4007 - val_acc: 0.8483\n",
      "Epoch 8/10\n",
      "25000/25000 [==============================] - 1s 50us/step - loss: 0.3935 - acc: 0.8544 - val_loss: 0.3903 - val_acc: 0.8557\n",
      "Epoch 9/10\n",
      "25000/25000 [==============================] - 1s 49us/step - loss: 0.3932 - acc: 0.8540 - val_loss: 0.4112 - val_acc: 0.8416\n",
      "Epoch 10/10\n",
      "25000/25000 [==============================] - 1s 48us/step - loss: 0.3908 - acc: 0.8553 - val_loss: 0.3878 - val_acc: 0.8584\n"
     ]
    },
    {
     "data": {
      "text/plain": [
       "<keras.callbacks.History at 0x1a1d4f9a10>"
      ]
     },
     "execution_count": 8,
     "metadata": {},
     "output_type": "execute_result"
    }
   ],
   "source": [
    "model.fit(x_train_enc, y_train_enc, validation_data=(x_test_enc, y_test_enc),\n",
    "          epochs=10, batch_size=128)"
   ]
  },
  {
   "cell_type": "markdown",
   "metadata": {},
   "source": [
    "#### Embedding"
   ]
  },
  {
   "cell_type": "code",
   "execution_count": 9,
   "metadata": {},
   "outputs": [
    {
     "name": "stdout",
     "output_type": "stream",
     "text": [
      "999\n",
      "1\n",
      "998\n"
     ]
    }
   ],
   "source": [
    "print np.max(np.concatenate(x_train))\n",
    "print np.min(np.concatenate(x_train))\n",
    "print len(np.unique(np.concatenate(x_train)))"
   ]
  },
  {
   "cell_type": "code",
   "execution_count": 10,
   "metadata": {},
   "outputs": [
    {
     "name": "stdout",
     "output_type": "stream",
     "text": [
      "Found 400000 word vectors.\n"
     ]
    }
   ],
   "source": [
    "# preparation of embedding layer\n",
    "\n",
    "embeddings_index = {}\n",
    "f = open(os.path.join('glove.6B', 'glove.6B.100d.txt'))\n",
    "for line in f:\n",
    "    values = line.split()\n",
    "    word = values[0]\n",
    "    coefs = np.asarray(values[1:], dtype='float32')\n",
    "    embeddings_index[word] = coefs\n",
    "f.close()\n",
    "\n",
    "print('Found %s word vectors.' % len(embeddings_index))"
   ]
  },
  {
   "cell_type": "code",
   "execution_count": 11,
   "metadata": {
    "scrolled": false
   },
   "outputs": [],
   "source": [
    "#get a dictionary with the 999 most common words\n",
    "\n",
    "word_index = imdb.get_word_index()\n",
    "\n",
    "ix_common_words = np.where(np.array(word_index.values()) < num_words)\n",
    "keys_common_words = np.array(word_index.keys())[ix_common_words]\n",
    "values_common_words = np.array(word_index.values())[ix_common_words]\n",
    "\n",
    "most_common_words = dict()\n",
    "\n",
    "for i, keys in enumerate(keys_common_words):\n",
    "    most_common_words[keys] = values_common_words[i]"
   ]
  },
  {
   "cell_type": "code",
   "execution_count": 12,
   "metadata": {},
   "outputs": [
    {
     "data": {
      "text/plain": [
       "3"
      ]
     },
     "execution_count": 12,
     "metadata": {},
     "output_type": "execute_result"
    }
   ],
   "source": [
    "most_common_words['a']"
   ]
  },
  {
   "cell_type": "code",
   "execution_count": 13,
   "metadata": {},
   "outputs": [],
   "source": [
    "EMBEDDING_DIM = 100\n",
    "\n",
    "new_word_index = most_common_words\n",
    "\n",
    "embedding_matrix = np.zeros((num_words, EMBEDDING_DIM))\n",
    "for word, i in new_word_index.items():\n",
    "    embedding_vector = embeddings_index.get(word)\n",
    "    if embedding_vector is not None:\n",
    "        # words not found in embedding index will be all-zeros.\n",
    "        embedding_matrix[i] = embedding_vector"
   ]
  },
  {
   "cell_type": "code",
   "execution_count": 14,
   "metadata": {},
   "outputs": [
    {
     "name": "stdout",
     "output_type": "stream",
     "text": [
      "(25000, 100)\n"
     ]
    }
   ],
   "source": [
    "from sklearn.manifold import TSNE\n",
    "from sklearn.decomposition import PCA\n",
    "\n",
    "x_train_embedded = np.dot(x_train_enc, embedding_matrix)\n",
    "x_test_embedded = np.dot(x_test_enc, embedding_matrix)\n",
    "print x_train_embedded.shape\n",
    "#x_train_embedded_2D = TSNE(n_components=2).fit_transform(x_train_embedded)\n",
    "\n",
    "pca = PCA(n_components=2)\n",
    "x_train_embedded_2D = pca.fit_transform(x_train_embedded)"
   ]
  },
  {
   "cell_type": "code",
   "execution_count": 15,
   "metadata": {},
   "outputs": [
    {
     "data": {
      "text/plain": [
       "<matplotlib.collections.PathCollection at 0x1a40d00390>"
      ]
     },
     "execution_count": 15,
     "metadata": {},
     "output_type": "execute_result"
    },
    {
     "data": {
      "image/png": "[encoded data removed]",
      "text/plain": [
       "<Figure size 432x288 with 1 Axes>"
      ]
     },
     "metadata": {},
     "output_type": "display_data"
    }
   ],
   "source": [
    "x_val = x_train_embedded_2D[:,0]\n",
    "y_val = x_train_embedded_2D[:,1]\n",
    "\n",
    "ix_class1 = np.where(y_train_enc[:,0] == 0)[0]\n",
    "ix_class2 = np.where(y_train_enc[:,0] == 1)[0]\n",
    "\n",
    "plt.scatter(x_val[ix_class1], y_val[ix_class1])\n",
    "plt.scatter(x_val[ix_class2], y_val[ix_class2])"
   ]
  },
  {
   "cell_type": "markdown",
   "metadata": {},
   "source": [
    "#### Embedding layer"
   ]
  },
  {
   "cell_type": "code",
   "execution_count": 16,
   "metadata": {},
   "outputs": [],
   "source": [
    "EMBEDDING_DIM = 100\n",
    "\n",
    "new_word_index = most_common_words\n",
    "\n",
    "embedding_matrix = np.zeros((len(new_word_index) + 1, EMBEDDING_DIM))\n",
    "for word, i in new_word_index.items():\n",
    "    embedding_vector = embeddings_index.get(word)\n",
    "    if embedding_vector is not None:\n",
    "        # words not found in embedding index will be all-zeros.\n",
    "        embedding_matrix[i] = embedding_vector"
   ]
  },
  {
   "cell_type": "code",
   "execution_count": 17,
   "metadata": {},
   "outputs": [],
   "source": [
    "\n",
    "\n",
    "# embedding_layer = Embedding(len(new_word_index) + 1,\n",
    "#                             EMBEDDING_DIM,\n",
    "#                             weights=[embedding_matrix],\n",
    "#                             input_length=MAX_SEQUENCE_LENGTH,\n",
    "#                             trainable=False)"
   ]
  },
  {
   "cell_type": "code",
   "execution_count": 18,
   "metadata": {},
   "outputs": [],
   "source": [
    "# embedding_matrix.shape"
   ]
  },
  {
   "cell_type": "code",
   "execution_count": 21,
   "metadata": {},
   "outputs": [
    {
     "name": "stdout",
     "output_type": "stream",
     "text": [
      "_________________________________________________________________\n",
      "Layer (type)                 Output Shape              Param #   \n",
      "=================================================================\n",
      "embedding_2 (Embedding)      (None, 1000, 100)         100000    \n",
      "_________________________________________________________________\n",
      "flatten_2 (Flatten)          (None, 100000)            0         \n",
      "_________________________________________________________________\n",
      "dense_4 (Dense)              (None, 2)                 200002    \n",
      "=================================================================\n",
      "Total params: 300,002\n",
      "Trainable params: 200,002\n",
      "Non-trainable params: 100,000\n",
      "_________________________________________________________________\n",
      "None\n"
     ]
    }
   ],
   "source": [
    "MAX_SEQUENCE_LENGTH = x_train_enc.shape[1]\n",
    "\n",
    "embedding_layer = Embedding(len(new_word_index) + 1,\n",
    "                            EMBEDDING_DIM,\n",
    "                            weights=[embedding_matrix],\n",
    "                            input_length=MAX_SEQUENCE_LENGTH, trainable = False)\n",
    "\n",
    "model = Sequential()\n",
    "model.add(embedding_layer)\n",
    "model.add(Flatten())\n",
    "#model.add(Dense(50, activation='relu', input_shape=(x_train_embedded.shape[1], )))\n",
    "#model.add(Dense(50, activation='relu'))\n",
    "model.add(Dense(2, activation='sigmoid'))\n",
    "\n",
    "# compile the model\n",
    "from keras.optimizers import Adam\n",
    "ad = Adam(lr=0.0001)\n",
    "model.compile(optimizer=ad, loss='binary_crossentropy', metrics=['acc'])\n",
    "# summarize the model\n",
    "print(model.summary())"
   ]
  },
  {
   "cell_type": "code",
   "execution_count": 22,
   "metadata": {},
   "outputs": [
    {
     "name": "stdout",
     "output_type": "stream",
     "text": [
      "Train on 25000 samples, validate on 25000 samples\n",
      "Epoch 1/10\n",
      "25000/25000 [==============================] - 21s 826us/step - loss: 0.4405 - acc: 0.8196 - val_loss: 0.3614 - val_acc: 0.8554\n",
      "Epoch 2/10\n",
      "25000/25000 [==============================] - 21s 831us/step - loss: 0.3372 - acc: 0.8641 - val_loss: 0.3347 - val_acc: 0.8611\n",
      "Epoch 3/10\n",
      "25000/25000 [==============================] - 22s 872us/step - loss: 0.3182 - acc: 0.8686 - val_loss: 0.3303 - val_acc: 0.8602\n",
      "Epoch 4/10\n",
      "25000/25000 [==============================] - 21s 825us/step - loss: 0.3097 - acc: 0.8724 - val_loss: 0.3257 - val_acc: 0.8615\n",
      "Epoch 5/10\n",
      "25000/25000 [==============================] - 20s 804us/step - loss: 0.3060 - acc: 0.8750 - val_loss: 0.3256 - val_acc: 0.8614\n",
      "Epoch 6/10\n",
      "25000/25000 [==============================] - 20s 799us/step - loss: 0.3040 - acc: 0.8745 - val_loss: 0.3269 - val_acc: 0.8605\n",
      "Epoch 7/10\n",
      "25000/25000 [==============================] - 21s 858us/step - loss: 0.3032 - acc: 0.8744 - val_loss: 0.3269 - val_acc: 0.8608\n",
      "Epoch 8/10\n",
      "25000/25000 [==============================] - 19s 773us/step - loss: 0.3022 - acc: 0.8746 - val_loss: 0.3279 - val_acc: 0.8605\n",
      "Epoch 9/10\n",
      "25000/25000 [==============================] - 19s 773us/step - loss: 0.3021 - acc: 0.8756 - val_loss: 0.3355 - val_acc: 0.8578\n",
      "Epoch 10/10\n",
      "25000/25000 [==============================] - 21s 821us/step - loss: 0.3017 - acc: 0.8753 - val_loss: 0.3317 - val_acc: 0.8596\n"
     ]
    },
    {
     "data": {
      "text/plain": [
       "<keras.callbacks.History at 0x1a4069e5d0>"
      ]
     },
     "execution_count": 22,
     "metadata": {},
     "output_type": "execute_result"
    }
   ],
   "source": [
    "model.fit(x_train_enc, y_train_enc, validation_data=(x_test_enc, y_test_enc),\n",
    "          epochs=10, batch_size=128)"
   ]
  },
  {
   "cell_type": "code",
   "execution_count": 23,
   "metadata": {},
   "outputs": [
    {
     "data": {
      "text/plain": [
       "array([[ 0.      ,  0.      ,  0.      , ...,  0.      ,  0.      ,\n",
       "         0.      ],\n",
       "       [-0.038194, -0.24487 ,  0.72812 , ..., -0.1459  ,  0.8278  ,\n",
       "         0.27062 ],\n",
       "       [-0.071953,  0.23127 ,  0.023731, ..., -0.71895 ,  0.86894 ,\n",
       "         0.19539 ],\n",
       "       ...,\n",
       "       [-0.28177 , -0.22735 , -0.016857, ..., -0.19574 , -0.21571 ,\n",
       "        -0.27263 ],\n",
       "       [ 0.23182 , -0.35374 , -0.067178, ..., -0.34251 ,  0.87474 ,\n",
       "         0.12929 ],\n",
       "       [ 0.29673 , -0.19803 ,  0.95258 , ..., -0.081311, -0.070592,\n",
       "         0.021297]], dtype=float32)"
      ]
     },
     "execution_count": 23,
     "metadata": {},
     "output_type": "execute_result"
    }
   ],
   "source": [
    "embedding_layer.get_weights()[0]"
   ]
  },
  {
   "cell_type": "code",
   "execution_count": 29,
   "metadata": {},
   "outputs": [
    {
     "data": {
      "text/plain": [
       "(100000, 2)"
      ]
     },
     "execution_count": 29,
     "metadata": {},
     "output_type": "execute_result"
    }
   ],
   "source": [
    "model.get_weights()[1].shape"
   ]
  },
  {
   "cell_type": "markdown",
   "metadata": {},
   "source": [
    "#### No pretrained layer"
   ]
  },
  {
   "cell_type": "code",
   "execution_count": 30,
   "metadata": {},
   "outputs": [],
   "source": [
    "embedding_layer = Embedding(len(new_word_index) + 1,\n",
    "                            EMBEDDING_DIM,\n",
    "                            input_length=MAX_SEQUENCE_LENGTH)"
   ]
  },
  {
   "cell_type": "code",
   "execution_count": 31,
   "metadata": {},
   "outputs": [
    {
     "name": "stdout",
     "output_type": "stream",
     "text": [
      "_________________________________________________________________\n",
      "Layer (type)                 Output Shape              Param #   \n",
      "=================================================================\n",
      "embedding_3 (Embedding)      (None, 1000, 100)         100000    \n",
      "_________________________________________________________________\n",
      "flatten_3 (Flatten)          (None, 100000)            0         \n",
      "_________________________________________________________________\n",
      "dense_5 (Dense)              (None, 2)                 200002    \n",
      "=================================================================\n",
      "Total params: 300,002\n",
      "Trainable params: 300,002\n",
      "Non-trainable params: 0\n",
      "_________________________________________________________________\n",
      "None\n"
     ]
    }
   ],
   "source": [
    "MAX_SEQUENCE_LENGTH = x_train_enc.shape[1]\n",
    "\n",
    "model = Sequential()\n",
    "model.add(embedding_layer)\n",
    "model.add(Flatten())\n",
    "#model.add(Dense(50, activation='relu', input_shape=(x_train_embedded.shape[1], )))\n",
    "#model.add(Dense(50, activation='relu'))\n",
    "model.add(Dense(2, activation='sigmoid'))\n",
    "\n",
    "# compile the model\n",
    "from keras.optimizers import Adam\n",
    "ad = Adam(lr=0.0001)\n",
    "model.compile(optimizer=ad, loss='binary_crossentropy', metrics=['acc'])\n",
    "# summarize the model\n",
    "print(model.summary())"
   ]
  },
  {
   "cell_type": "code",
   "execution_count": 32,
   "metadata": {},
   "outputs": [
    {
     "name": "stdout",
     "output_type": "stream",
     "text": [
      "Train on 25000 samples, validate on 25000 samples\n",
      "Epoch 1/10\n",
      "25000/25000 [==============================] - 25s 1ms/step - loss: 0.6318 - acc: 0.6962 - val_loss: 0.5512 - val_acc: 0.7625\n",
      "Epoch 2/10\n",
      "25000/25000 [==============================] - 23s 916us/step - loss: 0.4753 - acc: 0.8135 - val_loss: 0.4275 - val_acc: 0.8244\n",
      "Epoch 3/10\n",
      "25000/25000 [==============================] - 23s 915us/step - loss: 0.3922 - acc: 0.8428 - val_loss: 0.3950 - val_acc: 0.8252\n",
      "Epoch 4/10\n",
      "25000/25000 [==============================] - 23s 918us/step - loss: 0.3591 - acc: 0.8512 - val_loss: 0.3614 - val_acc: 0.8455\n",
      "Epoch 5/10\n",
      "25000/25000 [==============================] - 23s 910us/step - loss: 0.3390 - acc: 0.8602 - val_loss: 0.3535 - val_acc: 0.8475\n",
      "Epoch 6/10\n",
      "25000/25000 [==============================] - 24s 944us/step - loss: 0.3293 - acc: 0.8632 - val_loss: 0.3658 - val_acc: 0.8372\n",
      "Epoch 7/10\n",
      "25000/25000 [==============================] - 24s 940us/step - loss: 0.3220 - acc: 0.8640 - val_loss: 0.3333 - val_acc: 0.8599\n",
      "Epoch 8/10\n",
      "25000/25000 [==============================] - 23s 908us/step - loss: 0.3142 - acc: 0.8689 - val_loss: 0.3302 - val_acc: 0.8617\n",
      "Epoch 9/10\n",
      "25000/25000 [==============================] - 22s 891us/step - loss: 0.3117 - acc: 0.8689 - val_loss: 0.3298 - val_acc: 0.8602\n",
      "Epoch 10/10\n",
      "25000/25000 [==============================] - 23s 903us/step - loss: 0.3090 - acc: 0.8712 - val_loss: 0.3310 - val_acc: 0.8601\n"
     ]
    },
    {
     "data": {
      "text/plain": [
       "<keras.callbacks.History at 0x1a3ad0b890>"
      ]
     },
     "execution_count": 32,
     "metadata": {},
     "output_type": "execute_result"
    }
   ],
   "source": [
    "model.fit(x_train_enc, y_train_enc, validation_data=(x_test_enc, y_test_enc),\n",
    "          epochs=10, batch_size=128)"
   ]
  },
  {
   "cell_type": "code",
   "execution_count": 33,
   "metadata": {},
   "outputs": [
    {
     "name": "stdout",
     "output_type": "stream",
     "text": [
      "(25000, 100)\n"
     ]
    }
   ],
   "source": [
    "embedding_matrix2 = embedding_layer.get_weights()[0]\n",
    "\n",
    "x_train_embedded = np.dot(x_train_enc, embedding_matrix2)\n",
    "x_test_embedded = np.dot(x_test_enc, embedding_matrix2)\n",
    "print x_train_embedded.shape\n",
    "#x_train_embedded_2D = TSNE(n_components=2).fit_transform(x_train_embedded)\n",
    "\n",
    "pca = PCA(n_components=2)\n",
    "x_train_embedded_2D = pca.fit_transform(x_train_embedded)"
   ]
  },
  {
   "cell_type": "code",
   "execution_count": 34,
   "metadata": {},
   "outputs": [
    {
     "data": {
      "text/plain": [
       "<matplotlib.collections.PathCollection at 0x1a39dbb990>"
      ]
     },
     "execution_count": 34,
     "metadata": {},
     "output_type": "execute_result"
    },
    {
     "data": {
      "image/png": "[encoded data removed]",
      "text/plain": [
       "<Figure size 432x288 with 1 Axes>"
      ]
     },
     "metadata": {},
     "output_type": "display_data"
    }
   ],
   "source": [
    "x_val = x_train_embedded_2D[:,0]\n",
    "y_val = x_train_embedded_2D[:,1]\n",
    "\n",
    "ix_class1 = np.where(y_train_enc[:,0] == 0)[0]\n",
    "ix_class2 = np.where(y_train_enc[:,0] == 1)[0]\n",
    "\n",
    "plt.scatter(x_val[ix_class1], y_val[ix_class1])\n",
    "plt.scatter(x_val[ix_class2], y_val[ix_class2])"
   ]
  },
  {
   "cell_type": "code",
   "execution_count": null,
   "metadata": {},
   "outputs": [],
   "source": [
    "#word_index = imdb.get_word_index()\n",
    "\n",
    "# word2int = dict()\n",
    "\n",
    "# for word, ix in word_index.items():\n",
    "#     word2int[word] = ix"
   ]
  },
  {
   "cell_type": "code",
   "execution_count": null,
   "metadata": {},
   "outputs": [],
   "source": [
    "# sentence = []\n",
    "# for ix in x_train[0]:\n",
    "#     sentence.append(int2word[ix])\n",
    "# print sentence"
   ]
  },
  {
   "cell_type": "code",
   "execution_count": null,
   "metadata": {},
   "outputs": [],
   "source": [
    "# # the word_index starts with number 1 and has 88584 entries in total, no number/value is missing\n",
    "\n",
    "# print np.min(word_index.values())\n",
    "# print np.max(word_index.values())\n",
    "# print len(word_index.values())"
   ]
  },
  {
   "cell_type": "code",
   "execution_count": null,
   "metadata": {},
   "outputs": [],
   "source": [
    "# # somehow number 3 is missing in x_train\n",
    "# print np.where(np.concatenate(x_train) == 3)\n",
    "# ix_3 = np.where(np.array(word_index.values()) == 3)[0][0]\n",
    "\n",
    "# print word_index.keys()[ix_3]"
   ]
  },
  {
   "cell_type": "code",
   "execution_count": null,
   "metadata": {},
   "outputs": [],
   "source": []
  },
  {
   "cell_type": "code",
   "execution_count": null,
   "metadata": {},
   "outputs": [],
   "source": []
  },
  {
   "cell_type": "code",
   "execution_count": null,
   "metadata": {},
   "outputs": [],
   "source": [
    "# #one-hot encoding of sentences\n",
    "# tokenizer = Tokenizer(num_words=num_words)\n",
    "# x_train_enc = tokenizer.sequences_to_matrix(x_train, mode='binary')\n",
    "# x_test_enc = tokenizer.sequences_to_matrix(x_test, mode='binary')"
   ]
  },
  {
   "cell_type": "code",
   "execution_count": null,
   "metadata": {},
   "outputs": [],
   "source": [
    "# #one-hot encoding of sentences\n",
    "# tokenizer = Tokenizer(num_words=num_words + 1)\n",
    "# x_train_enc2 = tokenizer.sequences_to_matrix(x_train, mode='binary')\n",
    "# x_test_enc2 = tokenizer.sequences_to_matrix(x_test, mode='binary')"
   ]
  },
  {
   "cell_type": "code",
   "execution_count": null,
   "metadata": {},
   "outputs": [],
   "source": []
  }
 ],
 "metadata": {
  "kernelspec": {
   "display_name": "Python 2",
   "language": "python",
   "name": "python2"
  }
 },
 "nbformat": 4,
 "nbformat_minor": 2
}
