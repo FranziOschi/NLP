{
 "cells": [
  {
   "cell_type": "code",
   "execution_count": 56,
   "metadata": {},
   "outputs": [
    {
     "name": "stdout",
     "output_type": "stream",
     "text": [
      "[nltk_data] Downloading package punkt to /home/franzio/nltk_data...\n",
      "[nltk_data]   Package punkt is already up-to-date!\n",
      "[nltk_data] Downloading package wordnet to /home/franzio/nltk_data...\n",
      "[nltk_data]   Package wordnet is already up-to-date!\n",
      "[nltk_data] Downloading package stopwords to\n",
      "[nltk_data]     /home/franzio/nltk_data...\n",
      "[nltk_data]   Package stopwords is already up-to-date!\n"
     ]
    }
   ],
   "source": [
    "import numpy as np\n",
    "import string\n",
    "import sys\n",
    "import matplotlib.pyplot as plt\n",
    "\n",
    "\n",
    "import nltk\n",
    "nltk.download('punkt')\n",
    "nltk.download('wordnet')\n",
    "from nltk.corpus import stopwords\n",
    "nltk.download('stopwords')\n",
    "from nltk.stem.porter import PorterStemmer\n",
    "from nltk.stem import WordNetLemmatizer\n",
    "from nltk import WordPunctTokenizer\n",
    "from nltk.tokenize import sent_tokenize, word_tokenize, wordpunct_tokenize\n",
    "from nltk.tokenize import RegexpTokenizer\n",
    "\n",
    "import pandas as pd\n",
    "\n",
    "from gensim.models import Word2Vec, KeyedVectors\n",
    "\n",
    "from sklearn.decomposition import PCA\n",
    "from sklearn.feature_extraction.text import CountVectorizer, TfidfTransformer, TfidfVectorizer\n",
    "from sklearn.naive_bayes import MultinomialNB, GaussianNB\n",
    "from sklearn.model_selection import train_test_split\n",
    "from sklearn.linear_model import SGDClassifier, LogisticRegression\n",
    "from sklearn.metrics import log_loss\n",
    "from sklearn.pipeline import Pipeline\n",
    "from sklearn import svm\n",
    "from sklearn.ensemble import GradientBoostingClassifier\n",
    "\n",
    "import xgboost as xgb"
   ]
  },
  {
   "cell_type": "markdown",
   "metadata": {},
   "source": [
    "#### 1. Load data"
   ]
  },
  {
   "cell_type": "code",
   "execution_count": 2,
   "metadata": {
    "collapsed": true
   },
   "outputs": [],
   "source": [
    "train_path = './train/train.csv'\n",
    "test_path = './test/test.csv'\n",
    "sample_submission_path = './sample_submission/sample_submission.csv'\n",
    "\n",
    "train_data = pd.read_csv(train_path, encoding='utf-8')\n",
    "test_data = pd.read_csv(test_path, encoding='utf-8')\n",
    "sample_submission = pd.read_csv(sample_submission_path, encoding='utf-8')"
   ]
  },
  {
   "cell_type": "code",
   "execution_count": 3,
   "metadata": {
    "collapsed": true
   },
   "outputs": [],
   "source": [
    "# extract text/sentences from data frame\n",
    "train_text = train_data.text\n",
    "test_text = test_data.text\n",
    "\n",
    "# build list with all train and test sentences\n",
    "n_train = train_data.text.shape[0]\n",
    "n_test = test_data.text.shape[0]\n",
    "\n",
    "all_text = train_text.append(test_text, ignore_index=True)"
   ]
  },
  {
   "cell_type": "code",
   "execution_count": 4,
   "metadata": {},
   "outputs": [
    {
     "data": {
      "text/plain": [
       "(19579,)"
      ]
     },
     "execution_count": 4,
     "metadata": {},
     "output_type": "execute_result"
    }
   ],
   "source": [
    "# extract train target from data\n",
    "target = np.array(train_data.author)\n",
    "target.shape"
   ]
  },
  {
   "cell_type": "markdown",
   "metadata": {},
   "source": [
    "#### 2. Data cleaning"
   ]
  },
  {
   "cell_type": "markdown",
   "metadata": {},
   "source": [
    "First of all it is necessary to clean the data. For that purpose the sentences are separated into single words. Then stopwords and punctuation are deletd and the single words are reduced to their word stem."
   ]
  },
  {
   "cell_type": "code",
   "execution_count": 5,
   "metadata": {
    "collapsed": true
   },
   "outputs": [],
   "source": [
    "def text_cleaning(sen):\n",
    "    tokenizer = RegexpTokenizer(r'\\w+')\n",
    "    tok = tokenizer.tokenize(sen)\n",
    "    \n",
    "    lemm = WordNetLemmatizer()\n",
    "    stem = [lemm.lemmatize(t) for t in tok]\n",
    "    \n",
    "    stop_words = set(stopwords.words('english'))\n",
    "    return list(filter(lambda ts: ts.lower() not in stop_words, stem))"
   ]
  },
  {
   "cell_type": "code",
   "execution_count": 6,
   "metadata": {
    "collapsed": true
   },
   "outputs": [],
   "source": [
    "clean_sents = [text_cleaning(at) for at in all_text]"
   ]
  },
  {
   "cell_type": "code",
   "execution_count": 19,
   "metadata": {},
   "outputs": [
    {
     "data": {
      "text/plain": [
       "['process',\n",
       " 'however',\n",
       " 'afforded',\n",
       " 'mean',\n",
       " 'ascertaining',\n",
       " 'dimension',\n",
       " 'dungeon',\n",
       " 'might',\n",
       " 'make',\n",
       " 'circuit',\n",
       " 'return',\n",
       " 'point',\n",
       " 'whence',\n",
       " 'set',\n",
       " 'without',\n",
       " 'aware',\n",
       " 'fact',\n",
       " 'perfectly',\n",
       " 'uniform',\n",
       " 'seemed',\n",
       " 'wall']"
      ]
     },
     "execution_count": 19,
     "metadata": {},
     "output_type": "execute_result"
    }
   ],
   "source": [
    "clean_sents[0]"
   ]
  },
  {
   "cell_type": "code",
   "execution_count": 7,
   "metadata": {
    "collapsed": true
   },
   "outputs": [],
   "source": [
    "joined_sents = [' '.join(cs) for cs in clean_sents]"
   ]
  },
  {
   "cell_type": "code",
   "execution_count": 20,
   "metadata": {},
   "outputs": [
    {
     "data": {
      "text/plain": [
       "'process however afforded mean ascertaining dimension dungeon might make circuit return point whence set without aware fact perfectly uniform seemed wall'"
      ]
     },
     "execution_count": 20,
     "metadata": {},
     "output_type": "execute_result"
    }
   ],
   "source": [
    "joined_sents[0]"
   ]
  },
  {
   "cell_type": "markdown",
   "metadata": {},
   "source": [
    "#### 3. Word embedding"
   ]
  },
  {
   "cell_type": "markdown",
   "metadata": {},
   "source": [
    "The single words are now embedded within a high-dimensional space, such that every word is represented by one vector. Here, the TfidVectorizer is used which is equivalent to a combination of first applying CountVectorizer followed by TfidfTransformer. The former transforms the text document into a matrix of counts (bag of words). The latter transforms the count matrix into one accounting for the frequency of words."
   ]
  },
  {
   "cell_type": "code",
   "execution_count": 26,
   "metadata": {
    "collapsed": true
   },
   "outputs": [],
   "source": [
    "tfid_vect = TfidfVectorizer()\n",
    "text_vect = tfid_vect.fit_transform(joined_sents)"
   ]
  },
  {
   "cell_type": "code",
   "execution_count": 27,
   "metadata": {
    "collapsed": true
   },
   "outputs": [],
   "source": [
    "# split the vector again into training and test data\n",
    "train_new = text_vect[:n_train]\n",
    "test_new = text_vect[n_train:]\n",
    "\n",
    "#train_new = train_new.toarray()\n",
    "#test_new = test_new.toarray()"
   ]
  },
  {
   "cell_type": "markdown",
   "metadata": {},
   "source": [
    "#### 4. Dimensionality reduction"
   ]
  },
  {
   "cell_type": "markdown",
   "metadata": {},
   "source": [
    "For the purpose of visualising the data, the high dimensional vectors are reduced to two-dimensional ones."
   ]
  },
  {
   "cell_type": "code",
   "execution_count": 28,
   "metadata": {
    "collapsed": true
   },
   "outputs": [],
   "source": [
    "pca = PCA(n_components=2)\n",
    "result = pca.fit_transform(train_new.toarray())"
   ]
  },
  {
   "cell_type": "code",
   "execution_count": 29,
   "metadata": {
    "collapsed": true
   },
   "outputs": [],
   "source": [
    "ix_eap = np.where(target == 'EAP')\n",
    "ix_hpl = np.where(target == 'HPL')\n",
    "ix_mws = np.where(target == 'MWS')"
   ]
  },
  {
   "cell_type": "code",
   "execution_count": 30,
   "metadata": {},
   "outputs": [
    {
     "data": {
      "image/png": "[encoded data removed]",
      "text/plain": [
       "<matplotlib.figure.Figure at 0x7f31fc0992b0>"
      ]
     },
     "metadata": {},
     "output_type": "display_data"
    }
   ],
   "source": [
    "plt.scatter(result[ix_eap, 0], result[ix_eap, 1], label = 'EAP')\n",
    "plt.scatter(result[ix_hpl, 0], result[ix_hpl, 1], label = 'HPL')\n",
    "plt.scatter(result[ix_mws, 0], result[ix_mws, 1], label = 'MWS')\n",
    "plt.legend()\n",
    "plt.show()"
   ]
  },
  {
   "cell_type": "markdown",
   "metadata": {},
   "source": [
    "#### 5. Training of the model"
   ]
  },
  {
   "cell_type": "markdown",
   "metadata": {},
   "source": [
    "Different classification models are used in order to find out which works best."
   ]
  },
  {
   "cell_type": "code",
   "execution_count": 31,
   "metadata": {
    "collapsed": true
   },
   "outputs": [],
   "source": [
    "# split data into training and validation set\n",
    "X_train, X_val, y_train, y_val = train_test_split(train_new, target, test_size=0.2, random_state=1)"
   ]
  },
  {
   "cell_type": "markdown",
   "metadata": {},
   "source": [
    "##### 5.1 Logistic regression"
   ]
  },
  {
   "cell_type": "code",
   "execution_count": 34,
   "metadata": {},
   "outputs": [
    {
     "name": "stdout",
     "output_type": "stream",
     "text": [
      "0.805669050051\n",
      "0.498793588463\n"
     ]
    }
   ],
   "source": [
    "clf = LogisticRegression(C=30.0, class_weight='balanced', solver='newton-cg', \n",
    "                         multi_class='multinomial', n_jobs=-1, random_state=40)\n",
    "text_clf = clf.fit(X_train, y_train)\n",
    "\n",
    "predicted = text_clf.predict(X_val)\n",
    "print(np.mean(predicted == y_val))\n",
    "\n",
    "predicted = text_clf.predict_proba(X_val)\n",
    "print(log_loss(y_val, predicted))"
   ]
  },
  {
   "cell_type": "markdown",
   "metadata": {},
   "source": [
    "##### 5.2 Gradient Boosting"
   ]
  },
  {
   "cell_type": "code",
   "execution_count": 53,
   "metadata": {},
   "outputs": [
    {
     "name": "stdout",
     "output_type": "stream",
     "text": [
      "0.669816138917\n",
      "0.785216082253\n"
     ]
    }
   ],
   "source": [
    "clf_gb = GradientBoostingClassifier(n_estimators=300, learning_rate=0.1)\n",
    "\n",
    "text_clf_gb = clf_gb.fit(X_train, y_train)\n",
    "\n",
    "predicted = text_clf_gb.predict(X_val)\n",
    "print(np.mean(predicted == y_val))\n",
    "\n",
    "predicted = text_clf_gb.predict_proba(X_val)\n",
    "print(log_loss(y_val, predicted))"
   ]
  },
  {
   "cell_type": "markdown",
   "metadata": {},
   "source": [
    "##### 5.3 XGBoost"
   ]
  },
  {
   "cell_type": "code",
   "execution_count": 68,
   "metadata": {},
   "outputs": [
    {
     "name": "stdout",
     "output_type": "stream",
     "text": [
      "0.740551583248\n",
      "0.620294797499\n"
     ]
    }
   ],
   "source": [
    "gbm = xgb.XGBClassifier(max_depth=5, n_estimators=300, learning_rate=0.5)\n",
    "\n",
    "text_clf_gbm = gbm.fit(X_train, y_train)\n",
    "\n",
    "predicted = text_clf_gbm.predict(X_val)\n",
    "print(np.mean(predicted == y_val))\n",
    "\n",
    "predicted = text_clf_gbm.predict_proba(X_val)\n",
    "print(log_loss(y_val, predicted))"
   ]
  },
  {
   "cell_type": "code",
   "execution_count": null,
   "metadata": {
    "collapsed": true
   },
   "outputs": [],
   "source": []
  }
 ],
 "metadata": {
  "kernelspec": {
   "display_name": "Python 3",
   "language": "python",
   "name": "python3"
  }
 },
 "nbformat": 4,
 "nbformat_minor": 2
}
